{
 "cells": [
  {
   "cell_type": "code",
   "execution_count": 6,
   "id": "e1dbbbc1-79b8-409d-9d25-d0268ae05280",
   "metadata": {},
   "outputs": [
    {
     "name": "stdin",
     "output_type": "stream",
     "text": [
      "Enter height: 4\n",
      "Enter weight: 100\n",
      "Enter foot size: 11\n"
     ]
    },
    {
     "name": "stdout",
     "output_type": "stream",
     "text": [
      "Prediction for new entry with Height=4, Weight=100, Foot_Size=11: male\n",
      "Confusion Matrix:\n",
      "[[1 0]\n",
      " [0 2]]\n",
      "Accuracy: 1.00\n"
     ]
    },
    {
     "name": "stderr",
     "output_type": "stream",
     "text": [
      "E:\\Downloaded-Softwares\\Anaconda\\Lib\\site-packages\\sklearn\\base.py:493: UserWarning: X does not have valid feature names, but DecisionTreeClassifier was fitted with feature names\n",
      "  warnings.warn(\n"
     ]
    }
   ],
   "source": [
    "# Import necessary libraries\n",
    "import pandas as pd\n",
    "from sklearn.model_selection import train_test_split\n",
    "from sklearn.tree import DecisionTreeClassifier\n",
    "from sklearn.metrics import confusion_matrix, accuracy_score\n",
    "from sklearn.preprocessing import LabelEncoder\n",
    "\n",
    "# Load the data from CSV file\n",
    "df = pd.read_csv(\"PersonData.csv\")\n",
    "\n",
    "# Initialize LabelEncoder for the 'Gender' column\n",
    "gender_encoder = LabelEncoder()\n",
    "\n",
    "# Encode the 'Gender' column\n",
    "df['Gender'] = gender_encoder.fit_transform(df['Gender'])\n",
    "\n",
    "# Define features (Height, Weight, Foot_Size) and labels (Gender)\n",
    "X = df[['Height', 'Weight', 'Foot_Size']]\n",
    "y = df['Gender']\n",
    "\n",
    "# Split the dataset into training and testing sets\n",
    "X_train, X_test, y_train, y_test = train_test_split(X, y, test_size=0.3, random_state=42)\n",
    "\n",
    "# Initialize the Decision Tree Classifier\n",
    "classifier = DecisionTreeClassifier()\n",
    "\n",
    "# Train the model\n",
    "classifier.fit(X_train, y_train)\n",
    "\n",
    "# Prepare the input data for prediction (example: Height=6.00, Weight=180, Foot_Size=12)\n",
    "height=int(input(\"Enter height:\"))\n",
    "weight=int(input(\"Enter weight:\"))\n",
    "foot_size=int(input(\"Enter foot size:\"))\n",
    "new_entry = [[height, weight, foot_size]]\n",
    "prediction = classifier.predict(new_entry)\n",
    "\n",
    "# Decode the prediction to get the original label (i.e., 'male' or 'female')\n",
    "predicted_output = gender_encoder.inverse_transform(prediction)\n",
    "\n",
    "# Display the prediction for the input data\n",
    "print(f\"Prediction for new entry with Height={height}, Weight={weight}, Foot_Size={foot_size}: {predicted_output[0]}\")\n",
    "\n",
    "# Predict on the test set\n",
    "y_pred = classifier.predict(X_test)\n",
    "\n",
    "# Calculate confusion matrix and accuracy\n",
    "conf_matrix = confusion_matrix(y_test, y_pred)\n",
    "print(\"Confusion Matrix:\")\n",
    "print(conf_matrix)\n",
    "\n",
    "accuracy = accuracy_score(y_test, y_pred)\n",
    "print(f\"Accuracy: {accuracy:.2f}\")\n",
    "\n"
   ]
  },
  {
   "cell_type": "code",
   "execution_count": null,
   "id": "d5187463-6a55-4d38-a3b4-b2e6c0799be4",
   "metadata": {},
   "outputs": [],
   "source": []
  }
 ],
 "metadata": {
  "kernelspec": {
   "display_name": "Python 3 (ipykernel)",
   "language": "python",
   "name": "python3"
  },
  "language_info": {
   "codemirror_mode": {
    "name": "ipython",
    "version": 3
   },
   "file_extension": ".py",
   "mimetype": "text/x-python",
   "name": "python",
   "nbconvert_exporter": "python",
   "pygments_lexer": "ipython3",
   "version": "3.12.4"
  }
 },
 "nbformat": 4,
 "nbformat_minor": 5
}
